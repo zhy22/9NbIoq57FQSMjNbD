{
  "nbformat": 4,
  "nbformat_minor": 0,
  "metadata": {
    "colab": {
      "provenance": [],
      "authorship_tag": "ABX9TyMgeQ6yIwal6DzNz41mT62p",
      "include_colab_link": true
    },
    "kernelspec": {
      "name": "python3",
      "display_name": "Python 3"
    },
    "language_info": {
      "name": "python"
    }
  },
  "cells": [
    {
      "cell_type": "markdown",
      "metadata": {
        "id": "view-in-github",
        "colab_type": "text"
      },
      "source": [
        "<a href=\"https://colab.research.google.com/github/zhy22/9NbIoq57FQSMjNbD/blob/main/Project_1.ipynb\" target=\"_parent\"><img src=\"https://colab.research.google.com/assets/colab-badge.svg\" alt=\"Open In Colab\"/></a>"
      ]
    },
    {
      "cell_type": "markdown",
      "source": [
        "As a rapidly expanding company in the **logistics and delivery sector**, we facilitate **on-demand delivery** for our clients by collaborating with various partners. Our swift growth has inherently presented us with a range of **operational challenges** that our team works to resolve daily. We recognize the necessity of quantifying and predicting **customer satisfaction**. Knowing what factors influence a customer's happiness or dissatisfaction is key, as it allows us to proactively implement necessary changes. While gathering direct **customer feedback** is often difficult, we prioritize this effort because the insights gained are vital for continuously improving our operational efficiency at every level."
      ],
      "metadata": {
        "id": "Z14dwgaRFaGL"
      }
    },
    {
      "cell_type": "code",
      "source": [
        "from google.colab import files\n",
        "uploaded = files.upload()\n",
        "#The code first reads customer survey data from the file"
      ],
      "metadata": {
        "colab": {
          "base_uri": "https://localhost:8080/",
          "height": 74
        },
        "id": "A_tlcQPz4MN-",
        "outputId": "29eee38b-62bf-4d7b-8488-c6f05db54609"
      },
      "execution_count": null,
      "outputs": [
        {
          "output_type": "display_data",
          "data": {
            "text/plain": [
              "<IPython.core.display.HTML object>"
            ],
            "text/html": [
              "\n",
              "     <input type=\"file\" id=\"files-656f957b-afca-432b-ad96-0a932cf53492\" name=\"files[]\" multiple disabled\n",
              "        style=\"border:none\" />\n",
              "     <output id=\"result-656f957b-afca-432b-ad96-0a932cf53492\">\n",
              "      Upload widget is only available when the cell has been executed in the\n",
              "      current browser session. Please rerun this cell to enable.\n",
              "      </output>\n",
              "      <script>// Copyright 2017 Google LLC\n",
              "//\n",
              "// Licensed under the Apache License, Version 2.0 (the \"License\");\n",
              "// you may not use this file except in compliance with the License.\n",
              "// You may obtain a copy of the License at\n",
              "//\n",
              "//      http://www.apache.org/licenses/LICENSE-2.0\n",
              "//\n",
              "// Unless required by applicable law or agreed to in writing, software\n",
              "// distributed under the License is distributed on an \"AS IS\" BASIS,\n",
              "// WITHOUT WARRANTIES OR CONDITIONS OF ANY KIND, either express or implied.\n",
              "// See the License for the specific language governing permissions and\n",
              "// limitations under the License.\n",
              "\n",
              "/**\n",
              " * @fileoverview Helpers for google.colab Python module.\n",
              " */\n",
              "(function(scope) {\n",
              "function span(text, styleAttributes = {}) {\n",
              "  const element = document.createElement('span');\n",
              "  element.textContent = text;\n",
              "  for (const key of Object.keys(styleAttributes)) {\n",
              "    element.style[key] = styleAttributes[key];\n",
              "  }\n",
              "  return element;\n",
              "}\n",
              "\n",
              "// Max number of bytes which will be uploaded at a time.\n",
              "const MAX_PAYLOAD_SIZE = 100 * 1024;\n",
              "\n",
              "function _uploadFiles(inputId, outputId) {\n",
              "  const steps = uploadFilesStep(inputId, outputId);\n",
              "  const outputElement = document.getElementById(outputId);\n",
              "  // Cache steps on the outputElement to make it available for the next call\n",
              "  // to uploadFilesContinue from Python.\n",
              "  outputElement.steps = steps;\n",
              "\n",
              "  return _uploadFilesContinue(outputId);\n",
              "}\n",
              "\n",
              "// This is roughly an async generator (not supported in the browser yet),\n",
              "// where there are multiple asynchronous steps and the Python side is going\n",
              "// to poll for completion of each step.\n",
              "// This uses a Promise to block the python side on completion of each step,\n",
              "// then passes the result of the previous step as the input to the next step.\n",
              "function _uploadFilesContinue(outputId) {\n",
              "  const outputElement = document.getElementById(outputId);\n",
              "  const steps = outputElement.steps;\n",
              "\n",
              "  const next = steps.next(outputElement.lastPromiseValue);\n",
              "  return Promise.resolve(next.value.promise).then((value) => {\n",
              "    // Cache the last promise value to make it available to the next\n",
              "    // step of the generator.\n",
              "    outputElement.lastPromiseValue = value;\n",
              "    return next.value.response;\n",
              "  });\n",
              "}\n",
              "\n",
              "/**\n",
              " * Generator function which is called between each async step of the upload\n",
              " * process.\n",
              " * @param {string} inputId Element ID of the input file picker element.\n",
              " * @param {string} outputId Element ID of the output display.\n",
              " * @return {!Iterable<!Object>} Iterable of next steps.\n",
              " */\n",
              "function* uploadFilesStep(inputId, outputId) {\n",
              "  const inputElement = document.getElementById(inputId);\n",
              "  inputElement.disabled = false;\n",
              "\n",
              "  const outputElement = document.getElementById(outputId);\n",
              "  outputElement.innerHTML = '';\n",
              "\n",
              "  const pickedPromise = new Promise((resolve) => {\n",
              "    inputElement.addEventListener('change', (e) => {\n",
              "      resolve(e.target.files);\n",
              "    });\n",
              "  });\n",
              "\n",
              "  const cancel = document.createElement('button');\n",
              "  inputElement.parentElement.appendChild(cancel);\n",
              "  cancel.textContent = 'Cancel upload';\n",
              "  const cancelPromise = new Promise((resolve) => {\n",
              "    cancel.onclick = () => {\n",
              "      resolve(null);\n",
              "    };\n",
              "  });\n",
              "\n",
              "  // Wait for the user to pick the files.\n",
              "  const files = yield {\n",
              "    promise: Promise.race([pickedPromise, cancelPromise]),\n",
              "    response: {\n",
              "      action: 'starting',\n",
              "    }\n",
              "  };\n",
              "\n",
              "  cancel.remove();\n",
              "\n",
              "  // Disable the input element since further picks are not allowed.\n",
              "  inputElement.disabled = true;\n",
              "\n",
              "  if (!files) {\n",
              "    return {\n",
              "      response: {\n",
              "        action: 'complete',\n",
              "      }\n",
              "    };\n",
              "  }\n",
              "\n",
              "  for (const file of files) {\n",
              "    const li = document.createElement('li');\n",
              "    li.append(span(file.name, {fontWeight: 'bold'}));\n",
              "    li.append(span(\n",
              "        `(${file.type || 'n/a'}) - ${file.size} bytes, ` +\n",
              "        `last modified: ${\n",
              "            file.lastModifiedDate ? file.lastModifiedDate.toLocaleDateString() :\n",
              "                                    'n/a'} - `));\n",
              "    const percent = span('0% done');\n",
              "    li.appendChild(percent);\n",
              "\n",
              "    outputElement.appendChild(li);\n",
              "\n",
              "    const fileDataPromise = new Promise((resolve) => {\n",
              "      const reader = new FileReader();\n",
              "      reader.onload = (e) => {\n",
              "        resolve(e.target.result);\n",
              "      };\n",
              "      reader.readAsArrayBuffer(file);\n",
              "    });\n",
              "    // Wait for the data to be ready.\n",
              "    let fileData = yield {\n",
              "      promise: fileDataPromise,\n",
              "      response: {\n",
              "        action: 'continue',\n",
              "      }\n",
              "    };\n",
              "\n",
              "    // Use a chunked sending to avoid message size limits. See b/62115660.\n",
              "    let position = 0;\n",
              "    do {\n",
              "      const length = Math.min(fileData.byteLength - position, MAX_PAYLOAD_SIZE);\n",
              "      const chunk = new Uint8Array(fileData, position, length);\n",
              "      position += length;\n",
              "\n",
              "      const base64 = btoa(String.fromCharCode.apply(null, chunk));\n",
              "      yield {\n",
              "        response: {\n",
              "          action: 'append',\n",
              "          file: file.name,\n",
              "          data: base64,\n",
              "        },\n",
              "      };\n",
              "\n",
              "      let percentDone = fileData.byteLength === 0 ?\n",
              "          100 :\n",
              "          Math.round((position / fileData.byteLength) * 100);\n",
              "      percent.textContent = `${percentDone}% done`;\n",
              "\n",
              "    } while (position < fileData.byteLength);\n",
              "  }\n",
              "\n",
              "  // All done.\n",
              "  yield {\n",
              "    response: {\n",
              "      action: 'complete',\n",
              "    }\n",
              "  };\n",
              "}\n",
              "\n",
              "scope.google = scope.google || {};\n",
              "scope.google.colab = scope.google.colab || {};\n",
              "scope.google.colab._files = {\n",
              "  _uploadFiles,\n",
              "  _uploadFilesContinue,\n",
              "};\n",
              "})(self);\n",
              "</script> "
            ]
          },
          "metadata": {}
        },
        {
          "output_type": "stream",
          "name": "stdout",
          "text": [
            "Saving train.csv to train.csv\n"
          ]
        }
      ]
    },
    {
      "cell_type": "markdown",
      "source": [
        "# 1. Descriptive View"
      ],
      "metadata": {
        "id": "nc_-9dLIKcon"
      }
    },
    {
      "cell_type": "code",
      "source": [
        "import pandas as pd\n",
        "import matplotlib.pyplot as plt\n",
        "\n",
        "X = df[[\"X1\", \"X2\", \"X3\", \"X4\", \"X5\", \"X6\"]].astype(str)\n",
        "y = df[\"Y\"].astype(int)\n",
        "\n",
        "data = X.copy()\n",
        "data[\"Y\"] = y\n",
        "# Create a figure (the entire image) and a set of axes (the individual plots).\n",
        "# We want 2 rows and 3 columns to fit all 6 features, and we set the overall size.\n",
        "fig, axes = plt.subplots(2, 3, figsize=(18, 8))  # 2 rows, 3 columns\n",
        "axes = axes.flatten()\n",
        "\n",
        "for i, col in enumerate([\"X1\", \"X2\", \"X3\", \"X4\", \"X5\", \"X6\"]):\n",
        "    pd.crosstab(data[col], data[\"Y\"]).plot(\n",
        "        kind=\"bar\",\n",
        "        stacked=True,\n",
        "        ax=axes[i],\n",
        "        colormap=\"tab20\"\n",
        "    )\n",
        "    axes[i].set_title(f\"Distribution - {col} (Y)\")\n",
        "    axes[i].set_xlabel(col)\n",
        "    axes[i].set_ylabel(\"Value\")\n",
        "    axes[i].legend(title=\"Y\")\n",
        "    axes[i].tick_params(axis='x', rotation=45)\n",
        "# --- Final Presentation ---\n",
        "plt.tight_layout()\n",
        "plt.show()\n",
        "\n",
        "\n"
      ],
      "metadata": {
        "colab": {
          "base_uri": "https://localhost:8080/",
          "height": 604
        },
        "id": "1RvBvc_LZMKi",
        "outputId": "d58fb506-635d-4d8c-d85c-874a52333bd9"
      },
      "execution_count": null,
      "outputs": [
        {
          "output_type": "display_data",
          "data": {
            "text/plain": [
              "<Figure size 1800x800 with 6 Axes>"
            ],
            "image/png": "[encoded data removed]"
          },
          "metadata": {}
        }
      ]
    },
    {
      "cell_type": "markdown",
      "source": [
        "X1: My order was delivered on time\n",
        "\n",
        "X2: Contents of my order were as I expected\n",
        "\n",
        "X3: I ordered everything I wanted to order\n",
        "\n",
        "X4: I paid a good price for my order\n",
        "\n",
        "X5: I am satisfied with my courier\n",
        "\n",
        "X6: The app makes ordering easy for me"
      ],
      "metadata": {
        "id": "MtnHsBWqgGLU"
      }
    },
    {
      "cell_type": "markdown",
      "source": [
        "# 2.Recall Predictions"
      ],
      "metadata": {
        "id": "9-I_rndvKmUn"
      }
    },
    {
      "cell_type": "code",
      "source": [
        "\n",
        "import warnings\n",
        "import numpy as np\n",
        "import pandas as pd\n",
        "import lazypredict\n",
        "\n",
        "from sklearn.model_selection import train_test_split\n",
        "from sklearn.preprocessing import StandardScaler\n",
        "from sklearn.metrics import recall_score, make_scorer\n",
        "from lazypredict.Supervised import LazyClassifier\n",
        "\n",
        "warnings.filterwarnings(\"ignore\")\n",
        "\n",
        "data_path = \"/content/train.csv\"\n",
        "df = pd.read_csv(data_path)\n",
        "X = df[[\"X1\", \"X2\", \"X3\", \"X4\", \"X5\", \"X6\"]]\n",
        "#These are the inputs the models will use to make a prediction.\n",
        "y = df[\"Y\"].astype(int)\n",
        "# this is what the models need to predict (the customer's satisfaction level, like happy or unhappy).\n",
        "X_train, X_test, y_train, y_test = train_test_split(\n",
        "    X, y, test_size=0.4, stratify=y, random_state=1\n",
        ")\n",
        "# We divide all the data into two main piles\n",
        "scaler = StandardScaler()\n",
        "# Imagine the features have different scales (e.g., one feature ranges from 1 to 100, another from 0 to 1).\n",
        "# The code uses a StandardScaler to normalize all the numbers so that no single feature dominates the model's attention just because it has bigger numbers.\n",
        "\n",
        "X_train_scaled = scaler.fit_transform(X_train)\n",
        "X_test_scaled = scaler.transform(X_test)\n",
        "\n",
        "clf = LazyClassifier(verbose=0, ignore_warnings=True,custom_metric=recall_score)\n",
        "models, predictions = clf.fit(X_train_scaled, X_test_scaled, y_train, y_test)\n",
        "\n",
        "# When it's testing the models, it's told to primarily judge them based on a score called Recall.\n",
        "# In the context of predicting unhappy customers, Recall is especially important because it measures the model's ability to correctly identify all the truly unhappy customers.\n",
        "# We'd rather take action on a few customers who were actually happy (a false alarm) than miss a single customer who was truly unhappy.\n",
        "recall_sorted = models[['recall_score']].sort_values(by='recall_score', ascending=False)\n",
        "print(recall_sorted)\n"
      ],
      "metadata": {
        "id": "qJqRDxP8quFJ",
        "outputId": "4315a197-d3cd-429b-dc77-338098b9374b",
        "colab": {
          "base_uri": "https://localhost:8080/"
        }
      },
      "execution_count": null,
      "outputs": [
        {
          "output_type": "stream",
          "name": "stdout",
          "text": [
            "                               recall_score\n",
            "Model                                      \n",
            "DummyClassifier                        1.00\n",
            "Perceptron                             0.79\n",
            "QuadraticDiscriminantAnalysis          0.79\n",
            "CalibratedClassifierCV                 0.71\n",
            "SVC                                    0.68\n",
            "GaussianNB                             0.68\n",
            "LogisticRegression                     0.64\n",
            "SGDClassifier                          0.64\n",
            "LinearSVC                              0.64\n",
            "LinearDiscriminantAnalysis             0.64\n",
            "RidgeClassifier                        0.64\n",
            "RidgeClassifierCV                      0.64\n",
            "NearestCentroid                        0.61\n",
            "BernoulliNB                            0.54\n",
            "AdaBoostClassifier                     0.54\n",
            "KNeighborsClassifier                   0.54\n",
            "LGBMClassifier                         0.50\n",
            "XGBClassifier                          0.46\n",
            "ExtraTreeClassifier                    0.43\n",
            "NuSVC                                  0.43\n",
            "PassiveAggressiveClassifier            0.39\n",
            "RandomForestClassifier                 0.39\n",
            "DecisionTreeClassifier                 0.39\n",
            "LabelPropagation                       0.39\n",
            "LabelSpreading                         0.39\n",
            "BaggingClassifier                      0.36\n",
            "ExtraTreesClassifier                   0.36\n"
          ]
        }
      ]
    },
    {
      "cell_type": "markdown",
      "source": [
        "To balance simplicity, interpretability, and reliability, we used three\n",
        "models:\n",
        "Logistic Regression: Provides a clear, mathematical explanation of\n",
        "how each factor affects customer happiness.\n",
        "Ridge Classifier: A variation of logistic regression that handles\n",
        "overlapping or correlated factors more effectively.\n",
        "Quadratic Discriminant Analysis (QDA): Captures more complex\n",
        "patterns in customer behavior while still being fast to compute.\n",
        "These models are well-suited for our data:\n",
        "Small number of features (6 survey questions).\n",
        "Closed-form, analytical solutions — meaning quick, reliable results.\n",
        "Easy to interpret and communicate to business stakeholders.\n",
        "\n",
        "# 3. Model Fitting"
      ],
      "metadata": {
        "id": "baxU8Vz-MvnV"
      }
    },
    {
      "cell_type": "code",
      "source": [
        "import pandas as pd\n",
        "import numpy as np\n",
        "from sklearn.discriminant_analysis import QuadraticDiscriminantAnalysis\n",
        "from sklearn.linear_model import LogisticRegression, RidgeClassifier\n",
        "from sklearn.ensemble import VotingClassifier, StackingClassifier\n",
        "from sklearn.model_selection import train_test_split, cross_val_score\n",
        "from sklearn.metrics import recall_score, make_scorer\n",
        "from sklearn.feature_selection import RFE\n",
        "from sklearn.pipeline import Pipeline\n",
        "from sklearn.preprocessing import StandardScaler\n",
        "from sklearn.ensemble import RandomForestClassifier\n",
        "\n",
        "\n",
        "data_path = \"/content/train.csv\"\n",
        "df = pd.read_csv(data_path)\n",
        "X=df[[\"X1\", \"X2\", \"X3\", \"X4\", \"X5\", \"X6\"]]\n",
        "y=df[\"Y\"].astype(int)\n",
        "# Split the data into training and testing sets.\n",
        "# test_size=0.4 means 40% of the data is held out for testing.\n",
        "# stratify=y ensures the training and testing sets have the same proportion of Y=0 and Y=1.\n",
        "# random_state ensures the split is the same every time the code runs.\n",
        "X_train, X_test, y_train, y_test = train_test_split(\n",
        "    X, y, test_size=0.4, stratify=y, random_state=46\n",
        ")\n",
        "log_reg=LogisticRegression(max_iter=500)\n",
        "ridge=RidgeClassifier()\n",
        "qda=QuadraticDiscriminantAnalysis()\n",
        "\n",
        "voting_clf=VotingClassifier(\n",
        "    estimators=[\n",
        "        (\"qda\", qda),\n",
        "        (\"log_reg\", log_reg),\n",
        "        (\"ridge\", ridge)\n",
        "    ],\n",
        "    voting=\"hard\"\n",
        ")\n",
        "# Calculate the Recall score: a critical metric that measures how well the model\n",
        "# identifies all actual positive cases (e.g., all truly unhappy customers).\n",
        "voting_clf.fit(X_train, y_train)\n",
        "y_pred_vote=voting_clf.predict(X_test)\n",
        "recall_vote=recall_score(y_test, y_pred_vote)\n",
        "print(f\"Voting Classifier Recall: {recall_vote}\")\n",
        "\n",
        "# Initialize the Stacking Classifier. This is more advanced: it uses the predictions\n",
        "# of the base models as *new inputs* for a 'final estimator' model.\n",
        "stack_clf=StackingClassifier(\n",
        "    estimators=[\n",
        "        (\"qda\", qda),\n",
        "        (\"log_reg\", log_reg),\n",
        "        (\"ridge\", ridge)\n",
        "    ],\n",
        "    final_estimator=RandomForestClassifier(),\n",
        "    passthrough=True\n",
        ")\n",
        "\n",
        "stack_clf.fit(X_train, y_train)\n",
        "y_pred_stack=stack_clf.predict(X_test)\n",
        "recall_stack=recall_score(y_test, y_pred_stack)\n",
        "\n",
        "print(f\"Stacking Classifier Recall: {recall_stack}\")\n",
        "# Create a dictionary of all models to test, including the individual ones and the ensembles\n",
        "\n",
        "models={\n",
        "    \"QDA\": qda,\n",
        "    \"LogReg\": log_reg,\n",
        "    \"Ridge\": ridge,\n",
        "    \"Voting\": voting_clf,\n",
        "    \"Stacking\": stack_clf\n",
        "}\n",
        "\n",
        "results={}\n",
        "\n",
        "for name, model in models.items():\n",
        "  model.fit(X_train, y_train)\n",
        "  y_pred=model.predict(X_test)\n",
        "  results[name]=recall_score(y_test,y_pred)\n",
        "\n",
        "best_model=max(results, key=results.get)\n",
        "best_model=models[best_model]\n",
        "print(f\"Best Model: {best_model}\")\n",
        "\n",
        "print(f\"results:{results}\")\n",
        "\n",
        "\n",
        "\n"
      ],
      "metadata": {
        "colab": {
          "base_uri": "https://localhost:8080/"
        },
        "id": "NdkqpT3hasGy",
        "outputId": "f3a26668-ad4a-4c0a-a1da-c4511de177cb"
      },
      "execution_count": null,
      "outputs": [
        {
          "output_type": "stream",
          "name": "stdout",
          "text": [
            "Voting Classifier Recall: 0.6428571428571429\n",
            "Stacking Classifier Recall: 0.6785714285714286\n",
            "Best Model: StackingClassifier(estimators=[('qda', QuadraticDiscriminantAnalysis()),\n",
            "                               ('log_reg', LogisticRegression(max_iter=500)),\n",
            "                               ('ridge', RidgeClassifier())],\n",
            "                   final_estimator=RandomForestClassifier(), passthrough=True)\n",
            "results:{'QDA': 0.4642857142857143, 'LogReg': 0.6428571428571429, 'Ridge': 0.6428571428571429, 'Voting': 0.6428571428571429, 'Stacking': 0.6785714285714286}\n"
          ]
        }
      ]
    },
    {
      "cell_type": "markdown",
      "source": [
        "We measured model performance using the recall rate.\n",
        "Recall measures how well the model identifies all unhappy\n",
        "customers.\n",
        "Our business goal is to reduce customer dissatisfaction.\n",
        "Missing an unhappy customer is more costly than mislabeling a happy\n",
        "one.\n",
        "A higher recall rate means fewer unhappy customers go unnoticed —\n",
        "enabling faster service recovery and process improvement"
      ],
      "metadata": {
        "id": "7kDfpl3bkJ88"
      }
    },
    {
      "cell_type": "code",
      "source": [
        "from sklearn.ensemble import StackingClassifier\n",
        "from sklearn.linear_model import LogisticRegression, RidgeClassifier\n",
        "from sklearn.discriminant_analysis import QuadraticDiscriminantAnalysis\n",
        "from sklearn.model_selection import cross_val_score, StratifiedKFold\n",
        "import numpy as np\n",
        "import pandas as pd\n",
        "from sklearn.metrics import make_scorer, recall_score\n",
        "scorer = make_scorer(recall_score, pos_label=0)\n",
        "\n",
        "data_path = \"/content/train.csv\"\n",
        "df = pd.read_csv(data_path)\n",
        "X = df[[\"X1\", \"X2\", \"X3\", \"X4\", \"X5\", \"X6\"]]\n",
        "y = df[\"Y\"].astype(int)\n",
        "\n",
        "cv = StratifiedKFold(n_splits=7, shuffle=True, random_state=8)\n",
        "\n",
        "\n",
        "# --- Backward Selection Loop ---\n",
        "# The loop continues as long as there is more than one feature remaining.\n",
        "# We stop when only one feature is left, as we can't test its removal.\n",
        "features = list(X.columns)\n",
        "ranking = []\n",
        "# Calculate the model's performance (Recall) using 5-fold cross-validation (cv=5)\n",
        "        # The score measures how well the 'stack_clf' performs with the feature 'f' removed.\n",
        "while len(features) > 1:\n",
        "    scores = {}\n",
        "    for f in features:\n",
        "        reduced = [feat for feat in features if feat != f]\n",
        "        score = cross_val_score(\n",
        "            stack_clf,\n",
        "            X[reduced],\n",
        "            y,\n",
        "            cv=cv,\n",
        "            scoring=scorer,\n",
        "        ).mean()\n",
        "        scores[f] = score\n",
        "    # Find the feature whose *removal* resulted in the *highest* Recall score.\n",
        "    # This feature is the \"worst\" or \"least important\" because removing it hurt performance the least (or even improved it).\n",
        "    worst_feature = max(scores, key=scores.get)\n",
        "    ranking.append((worst_feature, scores[worst_feature]))\n",
        "    features.remove(worst_feature)\n",
        "\n",
        "ranking.append((features[0], None))\n",
        "\n",
        "ranking_df = pd.DataFrame(ranking, columns=[\"Feature_Removed\", \"Recall_After_Removal\"])\n",
        "print(ranking_df)\n",
        "\n"
      ],
      "metadata": {
        "colab": {
          "base_uri": "https://localhost:8080/"
        },
        "id": "Gfq3NvreOKgL",
        "outputId": "0a1ad86c-a5c8-496a-9d0e-098eba97919d"
      },
      "execution_count": null,
      "outputs": [
        {
          "output_type": "stream",
          "name": "stdout",
          "text": [
            "  Feature_Removed  Recall_After_Removal\n",
            "0              X4              0.545635\n",
            "1              X6              0.567460\n",
            "2              X3              0.686508\n",
            "3              X2              0.527778\n",
            "4              X5              0.382937\n",
            "5              X1                   NaN\n"
          ]
        }
      ]
    },
    {
      "cell_type": "markdown",
      "source": [
        "# 4. Results"
      ],
      "metadata": {
        "id": "O1bGkgtweGbH"
      }
    },
    {
      "cell_type": "code",
      "source": [
        "import matplotlib.pyplot as plt\n",
        "\n",
        "plot_df = ranking_df.copy()\n",
        "# Handle missing values: If a feature removal test resulted in a missing Recall score (NaN),\n",
        "# treat it as a 0 for plotting purposes (this step depends on how the ranking_df was created).\n",
        "plot_df[\"Recall_After_Removal\"] = plot_df[\"Recall_After_Removal\"].fillna(0)\n",
        "# Sort the data frame based on the key metric (\"Recall_After_Removal\").\n",
        "# The highest Recall is placed first (ascending=False).\n",
        "plot_df_sorted = plot_df.sort_values(\"Recall_After_Removal\", ascending=False).reset_index(drop=True)\n",
        "# --- Plotting the Elbow Curve ---\n",
        "\n",
        "plt.figure(figsize=(10, 5))\n",
        "plt.plot(\n",
        "    plot_df_sorted[\"Feature_Removed\"],\n",
        "    plot_df_sorted[\"Recall_After_Removal\"],\n",
        "    marker='o',\n",
        "    linestyle='-'\n",
        ")\n",
        "\n",
        "plt.title(\"Elbow Plot: Predictors Ranked by Recall (Y=0)\")\n",
        "plt.xlabel(\"Predictors (Ranked by Recall After Removal)\")\n",
        "plt.ylabel(\"Mean Recall (Y=0)\")\n",
        "plt.xticks(rotation=45)\n",
        "plt.grid(True)\n",
        "plt.tight_layout()\n",
        "plt.show()\n",
        "\n",
        "\n"
      ],
      "metadata": {
        "colab": {
          "base_uri": "https://localhost:8080/",
          "height": 507
        },
        "id": "LVX3zo4NO9-X",
        "outputId": "e0201c83-b710-4797-b0b3-236a977895ec"
      },
      "execution_count": null,
      "outputs": [
        {
          "output_type": "display_data",
          "data": {
            "text/plain": [
              "<Figure size 1000x500 with 1 Axes>"
            ],
            "image/png": "[encoded data removed]"
          },
          "metadata": {}
        }
      ]
    },
    {
      "cell_type": "markdown",
      "source": [
        "The analysis shows that three operational areas have the strongest\n",
        "influence on customer dissatisfaction:\n",
        "1 Delivery Timeliness: Late deliveries are the most common driver of\n",
        "unhappiness. Customers expect reliability, and delays directly erode\n",
        "trust in the service.\n",
        "2 Order Accuracy: Incorrect or incomplete orders significantly impact\n",
        "satisfaction. Even small mismatches between what was ordered and\n",
        "what was received create frustration and increase support costs.\n",
        "3 Courier Service Quality: The delivery experience itself—courier\n",
        "professionalism, attitude, and communication—strongly shapes how\n",
        "customers perceive our brand.\n",
        "These insights suggest that operational improvements should\n",
        "prioritize:\n",
        "Strengthening last-mile logistics to reduce delivery delays.\n",
        "Enhancing order verification and fulfillment accuracy through better\n",
        "warehouse and partner coordination.\n",
        "Investing in courier training, incentives, and service standards to\n",
        "elevate the customer experience at the doorstep.\n"
      ],
      "metadata": {
        "id": "OGTZWjIWdWJa"
      }
    },
    {
      "cell_type": "markdown",
      "source": [
        "Current Limitation: The analysis is based on a relatively small\n",
        "sample size from a select customer cohort. While findings are\n",
        "directional and actionable, broader conclusions require more data\n",
        "across different regions, partners, and service types."
      ],
      "metadata": {
        "id": "lhSU73dpdYhU"
      }
    }
  ]
}